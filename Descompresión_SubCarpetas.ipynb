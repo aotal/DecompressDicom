{
 "cells": [
  {
   "cell_type": "code",
   "execution_count": 1,
   "metadata": {},
   "outputs": [],
   "source": [
    "import pydicom as dc\n",
    "import glob2\n",
    "import os\n",
    "import shutil\n",
    "import numpy as np\n",
    "from tqdm import tqdm"
   ]
  },
  {
   "cell_type": "code",
   "execution_count": 2,
   "metadata": {},
   "outputs": [],
   "source": [
    "getLastDirectory=lambda x:os.path.basename(os.path.normpath(x))"
   ]
  },
  {
   "cell_type": "code",
   "execution_count": 3,
   "metadata": {},
   "outputs": [],
   "source": [
    "if os.path.exists('./Output/'):\n",
    "    shutil.rmtree('./Output/')\n",
    "# Carga de todas las imágenes\n",
    "direc = glob2.glob(\"./Input/**/\", recursive=True)\n",
    "files = [glob2.glob(X + \"/**\", recursive=True) for X in direc]\n",
    "\n",
    "# files=[x for x in files if x not in direc]\n",
    "files = [j for i in files for j in i]\n",
    "files = [x for x in list(set(files)) if not os.path.isdir(x)]"
   ]
  },
  {
   "cell_type": "code",
   "execution_count": 4,
   "metadata": {},
   "outputs": [],
   "source": [
    "for X in direc:\n",
    "    if (getLastDirectory(X)!='Input'): \n",
    "        os.makedirs('./Output/'+getLastDirectory(X))"
   ]
  },
  {
   "cell_type": "code",
   "execution_count": 5,
   "metadata": {},
   "outputs": [],
   "source": [
    "filesOutput=[X.replace('./Input\\\\', './Output\\\\') for X in files]"
   ]
  },
  {
   "cell_type": "code",
   "execution_count": 6,
   "metadata": {},
   "outputs": [],
   "source": [
    "def Decompress(FileInput,FileOutput):\n",
    "    Out=dc.read_file(FileInput)\n",
    "    Out.decompress()\n",
    "    dc.write_file(FileOutput,Out)"
   ]
  },
  {
   "cell_type": "code",
   "execution_count": 7,
   "metadata": {},
   "outputs": [
    {
     "name": "stderr",
     "output_type": "stream",
     "text": [
      "100%|██████████████████████████████████████| 3417/3417 [02:10<00:00, 26.22it/s]\n"
     ]
    }
   ],
   "source": [
    "for i in tqdm(range(len(files))):\n",
    "    Decompress(files[i],filesOutput[i])"
   ]
  },
  {
   "cell_type": "code",
   "execution_count": null,
   "metadata": {},
   "outputs": [],
   "source": []
  }
 ],
 "metadata": {
  "kernelspec": {
   "display_name": "RayosX",
   "language": "python",
   "name": "rayos"
  },
  "language_info": {
   "codemirror_mode": {
    "name": "ipython",
    "version": 3
   },
   "file_extension": ".py",
   "mimetype": "text/x-python",
   "name": "python",
   "nbconvert_exporter": "python",
   "pygments_lexer": "ipython3",
   "version": "3.6.7"
  }
 },
 "nbformat": 4,
 "nbformat_minor": 4
}
